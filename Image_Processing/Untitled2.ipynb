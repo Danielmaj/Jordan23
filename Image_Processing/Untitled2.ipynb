{
 "cells": [
  {
   "cell_type": "code",
   "execution_count": 1,
   "metadata": {},
   "outputs": [],
   "source": [
    "import pyrealsense2 as rs\n",
    "from collections import deque\n",
    "import numpy as np\n",
    "import cv2\n",
    "from Image_Handler import Image_Handler\n",
    "import sys\n",
    "sys.path.append('../')\n",
    "from Hardware.mainboard import *\n",
    "from Hardware.Motor import *\n",
    "from time import sleep\n",
    "import threading\n",
    "import ctypes\n",
    "import numpy as np\n",
    "import matplotlib.pyplot as plt\n",
    "%matplotlib inline"
   ]
  },
  {
   "cell_type": "code",
   "execution_count": 2,
   "metadata": {},
   "outputs": [
    {
     "data": {
      "text/plain": [
       "<pyrealsense2.pyrealsense2.pipeline_profile at 0x7faf2dd33730>"
      ]
     },
     "execution_count": 2,
     "metadata": {},
     "output_type": "execute_result"
    }
   ],
   "source": [
    "pipeline = rs.pipeline(rs.context())\n",
    "config = rs.config()\n",
    "config.enable_stream(rs.stream.depth, 640, 480, rs.format.z16, 30)\n",
    "config.enable_stream(rs.stream.color, 640, 480, rs.format.bgr8, 30)\n",
    "\n",
    "pipeline.start(config)"
   ]
  },
  {
   "cell_type": "code",
   "execution_count": 20,
   "metadata": {},
   "outputs": [
    {
     "name": "stdout",
     "output_type": "stream",
     "text": [
      "(480, 640)\n"
     ]
    },
    {
     "data": {
      "text/plain": [
       "<matplotlib.image.AxesImage at 0x7faf281eb850>"
      ]
     },
     "execution_count": 20,
     "metadata": {},
     "output_type": "execute_result"
    },
    {
     "data": {
      "image/png": "[encoded data removed]",
      "text/plain": [
       "<Figure size 432x288 with 1 Axes>"
      ]
     },
     "metadata": {
      "needs_background": "light"
     },
     "output_type": "display_data"
    },
    {
     "data": {
      "image/png": "[encoded data removed]",
      "text/plain": [
       "<Figure size 432x288 with 1 Axes>"
      ]
     },
     "metadata": {
      "needs_background": "light"
     },
     "output_type": "display_data"
    }
   ],
   "source": [
    "greenLower = (25,0,56)\n",
    "greenUpper = (150,255,146)\n",
    "frames = pipeline.wait_for_frames()\n",
    "depth_frame = frames.get_depth_frame()\n",
    "color_frame = frames.get_color_frame()\n",
    "color_image = np.asanyarray(color_frame.get_data())\n",
    "hsv = cv2.cvtColor(color_image, cv2.COLOR_BGR2HSV)\n",
    "mask = cv2.inRange(hsv, greenLower, greenUpper)\n",
    "nmask = cv2.GaussianBlur(mask,(9,9),2,2)\n",
    "    # Convert to gray\n",
    "gray = nmask.copy()\n",
    "#gray = cv2.cvtColor(clone, cv2.COLOR_BGR2GRAY)\n",
    "# get current positions of four trackbars\n",
    "#r = cv2.getTrackbarPos('Treshold','Treshed')\n",
    "r=50\n",
    "plt.imshow(gray,cmap='gray')\n",
    "\n",
    "# Thresholding the gray image\n",
    "ret,gray_threshed = cv2.threshold(gray,r,255,cv2.THRESH_BINARY)\n",
    "\n",
    "\n",
    "\n",
    "# Blur an image\n",
    "bilateral_filtered_image = cv2.bilateralFilter(gray_threshed, 5, 175, 175)\n",
    "\n",
    "# Detect edges\n",
    "edge_detected_image = cv2.Canny(bilateral_filtered_image, 75, 200)\n",
    "\n",
    "# Find contours\n",
    "_, contours, _= cv2.findContours(edge_detected_image, cv2.RETR_TREE, cv2.CHAIN_APPROX_SIMPLE)\n",
    "\n",
    "\n",
    "contour_list = []\n",
    "for contour in contours:\n",
    "    # approximte for circles\n",
    "    approx = cv2.approxPolyDP(contour,0.01*cv2.arcLength(contour,True),True)\n",
    "    area = cv2.contourArea(contour)\n",
    "    if ((len(approx) > 8) & (area > 30) ):\n",
    "        contour_list.append(contour)\n",
    "\n",
    "# Draw contours on the original image\n",
    "cv2.drawContours(clone, contour_list,  -1, (255,0,0), 2)\n",
    "plt.figure()\n",
    "print(clone.shape)\n",
    "plt.imshow(clone)"
   ]
  },
  {
   "cell_type": "code",
   "execution_count": 11,
   "metadata": {},
   "outputs": [
    {
     "data": {
      "text/plain": [
       "[]"
      ]
     },
     "execution_count": 11,
     "metadata": {},
     "output_type": "execute_result"
    }
   ],
   "source": []
  },
  {
   "cell_type": "code",
   "execution_count": null,
   "metadata": {},
   "outputs": [],
   "source": [
    "\n",
    "\n",
    "\n",
    "\n",
    "# there is an outer boundary and inner boundary for each eadge, so contours double\n",
    "print('Number of found circles: {}'.format(int(len(contour_list)/2)))\n",
    "\n",
    "#Displaying the results     \n",
    "cv2.imshow('Objects Detected', clone)\n",
    "cv2.imshow(\"Treshed\", gray_threshed)\n",
    "\n",
    "# ESC to break\n",
    "k = cv2.waitKey(1) & 0xFF\n",
    "if k == 27:\n",
    "    break\n",
    "\n",
    "# close all open windows\n",
    "cv2.destroyAllWindows()"
   ]
  }
 ],
 "metadata": {
  "kernelspec": {
   "display_name": "Python 2",
   "language": "python",
   "name": "python2"
  },
  "language_info": {
   "codemirror_mode": {
    "name": "ipython",
    "version": 2
   },
   "file_extension": ".py",
   "mimetype": "text/x-python",
   "name": "python",
   "nbconvert_exporter": "python",
   "pygments_lexer": "ipython2",
   "version": "2.7.12"
  }
 },
 "nbformat": 4,
 "nbformat_minor": 2
}
