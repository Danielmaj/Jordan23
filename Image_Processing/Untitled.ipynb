{
 "cells": [
  {
   "cell_type": "code",
   "execution_count": 2,
   "metadata": {},
   "outputs": [],
   "source": [
    "\n",
    "# First import the library\n",
    "import pyrealsense2 as rs\n",
    "import time\n",
    "import json"
   ]
  },
  {
   "cell_type": "code",
   "execution_count": 2,
   "metadata": {},
   "outputs": [
    {
     "name": "stdout",
     "output_type": "stream",
     "text": [
      "Found camera device: Intel RealSense D435\n",
      "Setting RGB camera sensor settings\n",
      "exposure: 166.0\n",
      "white balance: 3000.0\n",
      "gain: 64.0\n",
      "auto exposure enabled: 0.0\n",
      "exposure: 166.0\n",
      "white balance: 3000.0\n",
      "gain: 64.0\n"
     ]
    }
   ],
   "source": [
    "\n",
    "pipeline = rs.pipeline()\n",
    "config = rs.config()\n",
    "config.enable_stream(rs.stream.depth, 640, 480, rs.format.z16, 60)\n",
    "config.enable_stream(rs.stream.color, 960, 540, rs.format.bgr8, 60)\n",
    "\n",
    "pipeline.start(config)\n",
    "# Create an align object\n",
    "# rs.align allows us to perform alignment of depth frames to others frames\n",
    "# The \"align_to\" is the stream type to which we plan to align depth frames.\n",
    "align_to = rs.stream.color\n",
    "align = rs.align(align_to)\n",
    "\n",
    "ctx = rs.context()\n",
    "devices = ctx.query_devices()\n",
    "for dev in devices:\n",
    "    if dev.supports(rs.camera_info.product_id) and dev.supports(rs.camera_info.name):\n",
    "        print(\"Found camera device: {}\".format(dev.get_info(rs.camera_info.name)))\n",
    "        sensors = dev.query_sensors()\n",
    "        for sensor in sensors:\n",
    "            if sensor.get_info(rs.camera_info.name) == \"RGB Camera\" and sensor.supports(\n",
    "                    rs.option.exposure) and sensor.supports(rs.option.gain):\n",
    "                print(\"Setting RGB camera sensor settings\")\n",
    "                sensor.set_option(rs.option.enable_auto_exposure, 1)\n",
    "                sensor.set_option(rs.option.white_balance, 3000)\n",
    "                sensor.set_option(rs.option.enable_auto_white_balance, 0)\n",
    "                print(\"exposure: {}\".format(sensor.get_option(rs.option.exposure)))\n",
    "                print(\"white balance: {}\".format(sensor.get_option(rs.option.white_balance)))\n",
    "                print(\"gain: {}\".format(sensor.get_option(rs.option.gain)))\n",
    "                time.sleep(2)\n",
    "                sensor.set_option(rs.option.enable_auto_exposure, 0)\n",
    "                print(\n",
    "                    \"auto exposure enabled: {}\".format(sensor.get_option(rs.option.enable_auto_exposure)))\n",
    "                print(\"exposure: {}\".format(sensor.get_option(rs.option.exposure)))  # 166\n",
    "                print(\"white balance: {}\".format(sensor.get_option(rs.option.white_balance)))\n",
    "                print(\"gain: {}\".format(sensor.get_option(rs.option.gain)))  # 64\n",
    "                break\n",
    "        break\n",
    "\n",
    "def get_frame(self):\n",
    "    frames = self.pipeline.wait_for_frames()\n",
    "    aligned_frames = self.align.process(frames)\n",
    "    aligned_depth_frame = aligned_frames.get_depth_frame()  # aligned_depth_frame is a 640x480 depth image\n",
    "    aligned_color_frame = aligned_frames.get_color_frame()\n",
    "    if not aligned_depth_frame or not aligned_color_frame:\n",
    "        return\n",
    "\n",
    "    self.depth_image = np.asanyarray(aligned_depth_frame.get_data())\n",
    "    self.regular_image = np.asanyarray(aligned_color_frame.get_data())\n",
    "    # self.yuv = cv2.cvtColor(self.regular_image, cv2.COLOR_BGR2YUV)\n",
    "    self.hsv = cv2.cvtColor(self.regular_image, cv2.COLOR_BGR2HSV)\n",
    "\n"
   ]
  },
  {
   "cell_type": "code",
   "execution_count": 5,
   "metadata": {},
   "outputs": [
    {
     "name": "stdout",
     "output_type": "stream",
     "text": [
      "Found camera device: Intel RealSense D435\n",
      "Setting RGB camera sensor settings\n",
      "exposure: 166.0\n",
      "white balance: 3000.0\n",
      "gain: 64.0\n",
      "auto exposure enabled: 0.0\n",
      "exposure: 166.0\n",
      "white balance: 3000.0\n",
      "gain: 64.0\n"
     ]
    }
   ],
   "source": [
    "one()"
   ]
  },
  {
   "cell_type": "code",
   "execution_count": 4,
   "metadata": {},
   "outputs": [],
   "source": [
    "DS5_product_ids = [\"0AD1\", \"0AD2\", \"0AD3\", \"0AD4\", \"0AD5\", \"0AF6\", \"0AFE\", \"0AFF\", \"0B00\", \"0B01\", \"0B03\", \"0B07\"]\n",
    "\n",
    "def find_device_that_supports_advanced_mode() :\n",
    "    ctx = rs.context()\n",
    "    ds5_dev = rs.device()\n",
    "    devices = ctx.query_devices();\n",
    "    for dev in devices:\n",
    "        if dev.supports(rs.camera_info.product_id) and str(dev.get_info(rs.camera_info.product_id)) in DS5_product_ids:\n",
    "            if dev.supports(rs.camera_info.name):\n",
    "                print(\"Found device that supports advanced mode:\", dev.get_info(rs.camera_info.name))\n",
    "            return dev\n",
    "    raise Exception(\"No device that supports advanced mode was found\")"
   ]
  },
  {
   "cell_type": "code",
   "execution_count": 5,
   "metadata": {},
   "outputs": [
    {
     "name": "stdout",
     "output_type": "stream",
     "text": [
      "('Found device that supports advanced mode:', u'Intel RealSense D435')\n",
      "('Advanced mode is', 'enabled')\n"
     ]
    }
   ],
   "source": [
    "try:\n",
    "    dev = find_device_that_supports_advanced_mode()\n",
    "    advnc_mode = rs.rs400_advanced_mode(dev)\n",
    "    print(\"Advanced mode is\", \"enabled\" if advnc_mode.is_enabled() else \"disabled\")\n",
    "\n",
    "    # Loop until we successfully enable advanced mode\n",
    "    while not advnc_mode.is_enabled():\n",
    "        print(\"Trying to enable advanced mode...\")\n",
    "        advnc_mode.toggle_advanced_mode(True)\n",
    "        # At this point the device will disconnect and re-connect.\n",
    "        print(\"Sleeping for 5 seconds...\")\n",
    "        time.sleep(5)\n",
    "        # The 'dev' object will become invalid and we need to initialize it again\n",
    "        dev = find_device_that_supports_advanced_mode()\n",
    "        advnc_mode = rs.rs400_advanced_mode(dev)\n",
    "        print(\"Advanced mode is\", \"enabled\" if advnc_mode.is_enabled() else \"disabled\")\n",
    "\n",
    "    # Serialize all controls to a Json string\n",
    "    serialized_string = advnc_mode.serialize_json()\n",
    "    as_json_object = json.loads(serialized_string)\n",
    "\n",
    "    # We can also load controls from a json string\n",
    "    # For Python 2, the values in 'as_json_object' dict need to be converted from unicode object to utf-8\n",
    "    if type(next(iter(as_json_object))) != str:\n",
    "        as_json_object = {k.encode('utf-8'): v.encode(\"utf-8\") for k, v in as_json_object.items()}\n",
    "\n",
    "    #Set auto white balance to False\n",
    "    as_json_object['controls-color-white-balance-auto'] = 'False'\n",
    "    # The C++ JSON parser requires double-quotes for the json object so we need\n",
    "    # to replace the single quote of the pythonic json to double-quotes\n",
    "    json_string = str(as_json_object).replace(\"'\", '\\\"')\n",
    "    advnc_mode.load_json(json_string)\n",
    "\n",
    "except Exception as e:\n",
    "    print(e)\n",
    "pass"
   ]
  },
  {
   "cell_type": "code",
   "execution_count": 7,
   "metadata": {},
   "outputs": [
    {
     "data": {
      "text/plain": [
       "'64'"
      ]
     },
     "execution_count": 7,
     "metadata": {},
     "output_type": "execute_result"
    }
   ],
   "source": [
    "as_json_object['controls-color-gain']"
   ]
  },
  {
   "cell_type": "code",
   "execution_count": 4,
   "metadata": {},
   "outputs": [],
   "source": [
    "def on_notification(n):\n",
    "    print (n)\n",
    "    if n.category == rs.notification_category.hardware_event:\n",
    "        try:\n",
    "            event = json.loads(n.serialized_data)\n",
    "            if event and event['Event Type'] == 'Controller Event' \\\n",
    "                and event['Data']['Sub Type'] == 'Discovery':\n",
    "                addr = event['Data']['Data']['MAC']\n",
    "                print ('Connecting to mac_str...')\n",
    "                try:\n",
    "                    tm2.connect_controller(addr)  # expecting tm2 = The device as tm2\n",
    "                except:\n",
    "                    print ('Failed to connect to controller ', mac_str)\n",
    "        except:\n",
    "            print ('Serialized data is not in JSON format (', \\\n",
    "                   n.serialized_data, ')')\n",
    "            \n",
    "def on_frame(f):\n",
    "    pass"
   ]
  },
  {
   "cell_type": "code",
   "execution_count": 12,
   "metadata": {},
   "outputs": [],
   "source": [
    "advnc_mode.toggle_advanced_mode(False)"
   ]
  },
  {
   "cell_type": "code",
   "execution_count": 20,
   "metadata": {},
   "outputs": [
    {
     "data": {
      "text/plain": [
       "<pyrealsense2.pyrealsense2.pipeline at 0x7fc1c03fbdc0>"
      ]
     },
     "execution_count": 20,
     "metadata": {},
     "output_type": "execute_result"
    }
   ],
   "source": [
    "rs.pipeline(rs.context())"
   ]
  },
  {
   "cell_type": "code",
   "execution_count": null,
   "metadata": {},
   "outputs": [],
   "source": []
  },
  {
   "cell_type": "code",
   "execution_count": 14,
   "metadata": {},
   "outputs": [],
   "source": [
    "c = dev.sensors[0]"
   ]
  },
  {
   "cell_type": "code",
   "execution_count": 15,
   "metadata": {},
   "outputs": [
    {
     "ename": "RuntimeError",
     "evalue": "start_streaming(...) failed. UVC device was not opened!",
     "output_type": "error",
     "traceback": [
      "\u001b[0;31m---------------------------------------------------------------------------\u001b[0m",
      "\u001b[0;31mRuntimeError\u001b[0m                              Traceback (most recent call last)",
      "\u001b[0;32m<ipython-input-15-1df32455abe2>\u001b[0m in \u001b[0;36m<module>\u001b[0;34m()\u001b[0m\n\u001b[0;32m----> 1\u001b[0;31m \u001b[0mc\u001b[0m\u001b[0;34m.\u001b[0m\u001b[0mstart\u001b[0m\u001b[0;34m(\u001b[0m\u001b[0mon_frame\u001b[0m\u001b[0;34m)\u001b[0m\u001b[0;34m\u001b[0m\u001b[0m\n\u001b[0m",
      "\u001b[0;31mRuntimeError\u001b[0m: start_streaming(...) failed. UVC device was not opened!"
     ]
    }
   ],
   "source": [
    "c.start(on_frame)"
   ]
  },
  {
   "cell_type": "code",
   "execution_count": 4,
   "metadata": {},
   "outputs": [
    {
     "name": "stdout",
     "output_type": "stream",
     "text": [
      "('Controls as JSON: \\n', u'{\\n    \"aux-param-autoexposure-setpoint\": \"1536\",\\n    \"aux-param-colorcorrection1\": \"0.298828\",\\n    \"aux-param-colorcorrection10\": \"0\",\\n    \"aux-param-colorcorrection11\": \"0\",\\n    \"aux-param-colorcorrection12\": \"0\",\\n    \"aux-param-colorcorrection2\": \"0.293945\",\\n    \"aux-param-colorcorrection3\": \"0.293945\",\\n    \"aux-param-colorcorrection4\": \"0.114258\",\\n    \"aux-param-colorcorrection5\": \"0\",\\n    \"aux-param-colorcorrection6\": \"0\",\\n    \"aux-param-colorcorrection7\": \"0\",\\n    \"aux-param-colorcorrection8\": \"0\",\\n    \"aux-param-colorcorrection9\": \"0\",\\n    \"aux-param-depthclampmax\": \"65536\",\\n    \"aux-param-depthclampmin\": \"0\",\\n    \"aux-param-disparityshift\": \"0\",\\n    \"controls-autoexposure-auto\": \"True\",\\n    \"controls-autoexposure-manual\": \"8500\",\\n    \"controls-color-autoexposure-auto\": \"True\",\\n    \"controls-color-autoexposure-manual\": \"166\",\\n    \"controls-color-backlight-compensation\": \"0\",\\n    \"controls-color-brightness\": \"0\",\\n    \"controls-color-contrast\": \"50\",\\n    \"controls-color-gain\": \"64\",\\n    \"controls-color-gamma\": \"300\",\\n    \"controls-color-hue\": \"0\",\\n    \"controls-color-power-line-frequency\": \"3\",\\n    \"controls-color-saturation\": \"64\",\\n    \"controls-color-sharpness\": \"50\",\\n    \"controls-color-white-balance-auto\": \"False\",\\n    \"controls-color-white-balance-manual\": \"4600\",\\n    \"controls-depth-gain\": \"16\",\\n    \"controls-laserpower\": \"150\",\\n    \"controls-laserstate\": \"on\",\\n    \"ignoreSAD\": \"0\",\\n    \"param-autoexposure-setpoint\": \"1536\",\\n    \"param-censusenablereg-udiameter\": \"9\",\\n    \"param-censusenablereg-vdiameter\": \"9\",\\n    \"param-censususize\": \"9\",\\n    \"param-censusvsize\": \"9\",\\n    \"param-depthclampmax\": \"65536\",\\n    \"param-depthclampmin\": \"0\",\\n    \"param-depthunits\": \"1000\",\\n    \"param-disableraucolor\": \"0\",\\n    \"param-disablesadcolor\": \"0\",\\n    \"param-disablesadnormalize\": \"0\",\\n    \"param-disablesloleftcolor\": \"0\",\\n    \"param-disableslorightcolor\": \"0\",\\n    \"param-disparitymode\": \"0\",\\n    \"param-disparityshift\": \"0\",\\n    \"param-lambdaad\": \"800\",\\n    \"param-lambdacensus\": \"26\",\\n    \"param-leftrightthreshold\": \"24\",\\n    \"param-maxscorethreshb\": \"2047\",\\n    \"param-medianthreshold\": \"500\",\\n    \"param-minscorethresha\": \"511\",\\n    \"param-neighborthresh\": \"7\",\\n    \"param-raumine\": \"1\",\\n    \"param-rauminn\": \"1\",\\n    \"param-rauminnssum\": \"3\",\\n    \"param-raumins\": \"1\",\\n    \"param-rauminw\": \"1\",\\n    \"param-rauminwesum\": \"3\",\\n    \"param-regioncolorthresholdb\": \"0.0499022\",\\n    \"param-regioncolorthresholdg\": \"0.0499022\",\\n    \"param-regioncolorthresholdr\": \"0.0499022\",\\n    \"param-regionshrinku\": \"3\",\\n    \"param-regionshrinkv\": \"1\",\\n    \"param-robbinsmonrodecrement\": \"10\",\\n    \"param-robbinsmonroincrement\": \"10\",\\n    \"param-rsmdiffthreshold\": \"4\",\\n    \"param-rsmrauslodiffthreshold\": \"1\",\\n    \"param-rsmremovethreshold\": \"0.375\",\\n    \"param-scanlineedgetaub\": \"72\",\\n    \"param-scanlineedgetaug\": \"72\",\\n    \"param-scanlineedgetaur\": \"72\",\\n    \"param-scanlinep1\": \"60\",\\n    \"param-scanlinep1onediscon\": \"105\",\\n    \"param-scanlinep1twodiscon\": \"70\",\\n    \"param-scanlinep2\": \"342\",\\n    \"param-scanlinep2onediscon\": \"190\",\\n    \"param-scanlinep2twodiscon\": \"130\",\\n    \"param-secondpeakdelta\": \"325\",\\n    \"param-texturecountthresh\": \"0\",\\n    \"param-texturedifferencethresh\": \"0\",\\n    \"param-usersm\": \"1\",\\n    \"param-zunits\": \"1000\"\\n}')\n"
     ]
    }
   ],
   "source": [
    " print(\"Controls as JSON: \\n\", serialized_string)"
   ]
  },
  {
   "cell_type": "code",
   "execution_count": 7,
   "metadata": {},
   "outputs": [],
   "source": []
  }
 ],
 "metadata": {
  "kernelspec": {
   "display_name": "Python 2",
   "language": "python",
   "name": "python2"
  },
  "language_info": {
   "codemirror_mode": {
    "name": "ipython",
    "version": 2
   },
   "file_extension": ".py",
   "mimetype": "text/x-python",
   "name": "python",
   "nbconvert_exporter": "python",
   "pygments_lexer": "ipython2",
   "version": "2.7.12"
  }
 },
 "nbformat": 4,
 "nbformat_minor": 2
}
